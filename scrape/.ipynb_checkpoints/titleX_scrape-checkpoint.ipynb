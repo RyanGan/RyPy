{
 "cells": [
  {
   "cell_type": "markdown",
   "metadata": {},
   "source": [
    "## Title X Table Scrape"
   ]
  },
  {
   "cell_type": "markdown",
   "metadata": {},
   "source": [
    "I'm going to use the tabula package to try and extract the tables from the PDF document."
   ]
  },
  {
   "cell_type": "code",
   "execution_count": 138,
   "metadata": {
    "ExecuteTime": {
     "end_time": "2018-11-21T17:04:45.768394Z",
     "start_time": "2018-11-21T17:04:45.765071Z"
    }
   },
   "outputs": [],
   "source": [
    "# Importing libraries\n",
    "import PyPDF2 # may not need anymore\n",
    "import tabula\n",
    "import pandas as pd"
   ]
  },
  {
   "cell_type": "code",
   "execution_count": 139,
   "metadata": {
    "ExecuteTime": {
     "end_time": "2018-11-21T17:04:52.327972Z",
     "start_time": "2018-11-21T17:04:52.324183Z"
    }
   },
   "outputs": [],
   "source": [
    "# Set path for PDF\n",
    "pdf_path = open((\"./Title-X-Family-\" +\n",
    "               \"Planning-Directory-September2018.pdf\"),\n",
    "                'rb')"
   ]
  },
  {
   "cell_type": "markdown",
   "metadata": {},
   "source": [
    "Using tabula read_pdf function. Specifying I want it to read all pages and that there are multiple tables."
   ]
  },
  {
   "cell_type": "code",
   "execution_count": 178,
   "metadata": {
    "ExecuteTime": {
     "end_time": "2018-11-21T22:08:50.765809Z",
     "start_time": "2018-11-21T22:07:11.879811Z"
    }
   },
   "outputs": [],
   "source": [
    "df = tabula.read_pdf(input_path=(\"./Title-X-Family-\" +\n",
    "                                 \"Planning-Directory-September2018.pdf\"), pages = \"all\",\n",
    "                     multiple_tables=True)"
   ]
  },
  {
   "cell_type": "markdown",
   "metadata": {},
   "source": [
    "The function read_pdf has read all the tables in the PDF in to a list which I have named as object 'df'. I probably should have named it something else like titleX_list, but it takes a couple minutes to run so I'm going to leave it as df."
   ]
  },
  {
   "cell_type": "code",
   "execution_count": 179,
   "metadata": {
    "ExecuteTime": {
     "end_time": "2018-11-21T22:08:58.157337Z",
     "start_time": "2018-11-21T22:08:58.150466Z"
    }
   },
   "outputs": [
    {
     "data": {
      "text/plain": [
       "list"
      ]
     },
     "execution_count": 179,
     "metadata": {},
     "output_type": "execute_result"
    }
   ],
   "source": [
    "# checking type\n",
    "type(df)"
   ]
  },
  {
   "cell_type": "markdown",
   "metadata": {},
   "source": [
    "The tables I want start at element 1. Viewing the first couple rows using the pandas head command. Here, I am converting the 2nd element of the object df to a pandas dataframe and looking at the first 6 rows or so using the .head command. Note that indexing of the first element in python starts at 0 where in R indexing starts at 1. The first row should be the header."
   ]
  },
  {
   "cell_type": "code",
   "execution_count": 180,
   "metadata": {
    "ExecuteTime": {
     "end_time": "2018-11-21T22:09:02.025761Z",
     "start_time": "2018-11-21T22:09:02.008309Z"
    }
   },
   "outputs": [
    {
     "data": {
      "text/html": [
       "<div>\n",
       "<style scoped>\n",
       "    .dataframe tbody tr th:only-of-type {\n",
       "        vertical-align: middle;\n",
       "    }\n",
       "\n",
       "    .dataframe tbody tr th {\n",
       "        vertical-align: top;\n",
       "    }\n",
       "\n",
       "    .dataframe thead th {\n",
       "        text-align: right;\n",
       "    }\n",
       "</style>\n",
       "<table border=\"1\" class=\"dataframe\">\n",
       "  <thead>\n",
       "    <tr style=\"text-align: right;\">\n",
       "      <th></th>\n",
       "      <th>0</th>\n",
       "      <th>1</th>\n",
       "      <th>2</th>\n",
       "      <th>3</th>\n",
       "      <th>4</th>\n",
       "      <th>5</th>\n",
       "      <th>6</th>\n",
       "      <th>7</th>\n",
       "      <th>8</th>\n",
       "      <th>9</th>\n",
       "    </tr>\n",
       "  </thead>\n",
       "  <tbody>\n",
       "    <tr>\n",
       "      <th>0</th>\n",
       "      <td>Grantee</td>\n",
       "      <td>Sub-Recipient</td>\n",
       "      <td>Service Site</td>\n",
       "      <td>Street Address</td>\n",
       "      <td>City</td>\n",
       "      <td>State</td>\n",
       "      <td>Zip</td>\n",
       "      <td>NaN</td>\n",
       "      <td>Phone</td>\n",
       "      <td>URL</td>\n",
       "    </tr>\n",
       "    <tr>\n",
       "      <th>1</th>\n",
       "      <td>Action for Boston Community Development, Inc.,</td>\n",
       "      <td>NaN</td>\n",
       "      <td>NaN</td>\n",
       "      <td>NaN</td>\n",
       "      <td>NaN</td>\n",
       "      <td>NaN</td>\n",
       "      <td>NaN</td>\n",
       "      <td>NaN</td>\n",
       "      <td>NaN</td>\n",
       "      <td>NaN</td>\n",
       "    </tr>\n",
       "    <tr>\n",
       "      <th>2</th>\n",
       "      <td>Family Planning</td>\n",
       "      <td>NaN</td>\n",
       "      <td>NaN</td>\n",
       "      <td>178 Tremont St</td>\n",
       "      <td>Boston</td>\n",
       "      <td>MA</td>\n",
       "      <td>NaN</td>\n",
       "      <td>02111</td>\n",
       "      <td>(617) 348-6260</td>\n",
       "      <td>http://www.bostonabcd.org</td>\n",
       "    </tr>\n",
       "    <tr>\n",
       "      <th>3</th>\n",
       "      <td>NaN</td>\n",
       "      <td>NaN</td>\n",
       "      <td>South Cove Community Health Center</td>\n",
       "      <td>885 Washington St</td>\n",
       "      <td>Boston</td>\n",
       "      <td>MA</td>\n",
       "      <td>NaN</td>\n",
       "      <td>02111</td>\n",
       "      <td>(617) 521-6839</td>\n",
       "      <td>http://www.scchc.org/</td>\n",
       "    </tr>\n",
       "    <tr>\n",
       "      <th>4</th>\n",
       "      <td>NaN</td>\n",
       "      <td>NaN</td>\n",
       "      <td>Uphams Corner Health Center and</td>\n",
       "      <td>NaN</td>\n",
       "      <td>NaN</td>\n",
       "      <td>NaN</td>\n",
       "      <td>NaN</td>\n",
       "      <td>NaN</td>\n",
       "      <td>NaN</td>\n",
       "      <td>NaN</td>\n",
       "    </tr>\n",
       "  </tbody>\n",
       "</table>\n",
       "</div>"
      ],
      "text/plain": [
       "                                                0              1  \\\n",
       "0                                         Grantee  Sub-Recipient   \n",
       "1  Action for Boston Community Development, Inc.,            NaN   \n",
       "2                                 Family Planning            NaN   \n",
       "3                                             NaN            NaN   \n",
       "4                                             NaN            NaN   \n",
       "\n",
       "                                    2                  3       4      5    6  \\\n",
       "0                        Service Site     Street Address    City  State  Zip   \n",
       "1                                 NaN                NaN     NaN    NaN  NaN   \n",
       "2                                 NaN     178 Tremont St  Boston     MA  NaN   \n",
       "3  South Cove Community Health Center  885 Washington St  Boston     MA  NaN   \n",
       "4     Uphams Corner Health Center and                NaN     NaN    NaN  NaN   \n",
       "\n",
       "       7               8                          9  \n",
       "0    NaN           Phone                        URL  \n",
       "1    NaN             NaN                        NaN  \n",
       "2  02111  (617) 348-6260  http://www.bostonabcd.org  \n",
       "3  02111  (617) 521-6839      http://www.scchc.org/  \n",
       "4    NaN             NaN                        NaN  "
      ]
     },
     "execution_count": 180,
     "metadata": {},
     "output_type": "execute_result"
    }
   ],
   "source": [
    "pd.DataFrame(df[1]).head()"
   ]
  },
  {
   "cell_type": "markdown",
   "metadata": {},
   "source": [
    "The first object in the list 'df' is a table that I don't want. I'm going to use the pop command to remove that element. I will only run this once and comment out so I don't keep removing elements from the list."
   ]
  },
  {
   "cell_type": "code",
   "execution_count": 172,
   "metadata": {
    "ExecuteTime": {
     "end_time": "2018-11-21T22:03:31.570740Z",
     "start_time": "2018-11-21T22:03:31.562239Z"
    }
   },
   "outputs": [
    {
     "data": {
      "text/html": [
       "<div>\n",
       "<style scoped>\n",
       "    .dataframe tbody tr th:only-of-type {\n",
       "        vertical-align: middle;\n",
       "    }\n",
       "\n",
       "    .dataframe tbody tr th {\n",
       "        vertical-align: top;\n",
       "    }\n",
       "\n",
       "    .dataframe thead th {\n",
       "        text-align: right;\n",
       "    }\n",
       "</style>\n",
       "<table border=\"1\" class=\"dataframe\">\n",
       "  <thead>\n",
       "    <tr style=\"text-align: right;\">\n",
       "      <th></th>\n",
       "      <th>0</th>\n",
       "      <th>1</th>\n",
       "    </tr>\n",
       "  </thead>\n",
       "  <tbody>\n",
       "    <tr>\n",
       "      <th>0</th>\n",
       "      <td>NaN</td>\n",
       "      <td>Legend</td>\n",
       "    </tr>\n",
       "    <tr>\n",
       "      <th>1</th>\n",
       "      <td>Grantee</td>\n",
       "      <td>NaN</td>\n",
       "    </tr>\n",
       "    <tr>\n",
       "      <th>2</th>\n",
       "      <td>Sub-Recipient</td>\n",
       "      <td>NaN</td>\n",
       "    </tr>\n",
       "    <tr>\n",
       "      <th>3</th>\n",
       "      <td>Service Site</td>\n",
       "      <td>NaN</td>\n",
       "    </tr>\n",
       "  </tbody>\n",
       "</table>\n",
       "</div>"
      ],
      "text/plain": [
       "               0       1\n",
       "0            NaN  Legend\n",
       "1        Grantee     NaN\n",
       "2  Sub-Recipient     NaN\n",
       "3   Service Site     NaN"
      ]
     },
     "execution_count": 172,
     "metadata": {},
     "output_type": "execute_result"
    }
   ],
   "source": [
    "# removing first element; commented out so I don't keep removing tables\n",
    "# df.pop(0)"
   ]
  },
  {
   "cell_type": "code",
   "execution_count": 187,
   "metadata": {
    "ExecuteTime": {
     "end_time": "2018-11-21T22:10:44.674584Z",
     "start_time": "2018-11-21T22:10:44.671589Z"
    }
   },
   "outputs": [],
   "source": [
    "test = [2, 'a']"
   ]
  },
  {
   "cell_type": "code",
   "execution_count": 188,
   "metadata": {
    "ExecuteTime": {
     "end_time": "2018-11-21T22:10:48.343900Z",
     "start_time": "2018-11-21T22:10:48.338720Z"
    }
   },
   "outputs": [
    {
     "data": {
      "text/plain": [
       "[2, 'a']"
      ]
     },
     "execution_count": 188,
     "metadata": {},
     "output_type": "execute_result"
    }
   ],
   "source": [
    "test"
   ]
  },
  {
   "cell_type": "code",
   "execution_count": 199,
   "metadata": {
    "ExecuteTime": {
     "end_time": "2018-11-23T02:15:55.102456Z",
     "start_time": "2018-11-23T02:15:55.085838Z"
    }
   },
   "outputs": [
    {
     "name": "stdout",
     "output_type": "stream",
     "text": [
      "                                                0              1  \\\n",
      "0                                         Grantee  Sub-Recipient   \n",
      "1  Action for Boston Community Development, Inc.,            NaN   \n",
      "2                                 Family Planning            NaN   \n",
      "3                                             NaN            NaN   \n",
      "4                                             NaN            NaN   \n",
      "\n",
      "                                    2                  3       4      5    6  \\\n",
      "0                        Service Site     Street Address    City  State  Zip   \n",
      "1                                 NaN                NaN     NaN    NaN  NaN   \n",
      "2                                 NaN     178 Tremont St  Boston     MA  NaN   \n",
      "3  South Cove Community Health Center  885 Washington St  Boston     MA  NaN   \n",
      "4     Uphams Corner Health Center and                NaN     NaN    NaN  NaN   \n",
      "\n",
      "       7               8                          9  \n",
      "0    NaN           Phone                        URL  \n",
      "1    NaN             NaN                        NaN  \n",
      "2  02111  (617) 348-6260  http://www.bostonabcd.org  \n",
      "3  02111  (617) 521-6839      http://www.scchc.org/  \n",
      "4    NaN             NaN                        NaN  \n",
      "         0              1                                 2  \\\n",
      "0  Grantee  Sub-Recipient                      Service Site   \n",
      "1      NaN            NaN  Mattapan Community Health Center   \n",
      "2      NaN            NaN    Charles River Community Health   \n",
      "3      NaN            NaN            Neponset Health Center   \n",
      "4      NaN            NaN  MGH Revere Adolescent and School   \n",
      "\n",
      "                    3           4      5    6      7               8  \\\n",
      "0      Street Address        City  State  Zip    NaN           Phone   \n",
      "1  1575 Blue Hill AVE    Mattapan     MA  NaN  02126  (617) 898-9055   \n",
      "2  495 Western Avenue     Allston     MA  NaN  02135  (617) 783-0500   \n",
      "3    398 Neponset AVE  Dorchester     MA  NaN  02122  (617) 282-3200   \n",
      "4                 NaN         NaN    NaN  NaN    NaN             NaN   \n",
      "\n",
      "                                             9  \n",
      "0                                          URL  \n",
      "1                  http://www.mattapanchc.org/  \n",
      "2                http://www.charlesriverch.org  \n",
      "3  http://www.hhsi.us/neponsethealthcenter.php  \n",
      "4                                          NaN  \n"
     ]
    }
   ],
   "source": [
    "for i in df[1:3]:\n",
    "    print(pd.DataFrame(i).head())"
   ]
  },
  {
   "cell_type": "code",
   "execution_count": 164,
   "metadata": {
    "ExecuteTime": {
     "end_time": "2018-11-21T21:59:49.103418Z",
     "start_time": "2018-11-21T21:59:49.091168Z"
    }
   },
   "outputs": [],
   "source": [
    "df[1].columns = df[1].iloc[0]"
   ]
  },
  {
   "cell_type": "code",
   "execution_count": 177,
   "metadata": {
    "ExecuteTime": {
     "end_time": "2018-11-21T22:06:48.495199Z",
     "start_time": "2018-11-21T22:06:46.769686Z"
    }
   },
   "outputs": [
    {
     "data": {
      "text/plain": [
       "[          0                                 1  \\\n",
       " 0   Grantee                     Sub-Recipient   \n",
       " 1       NaN                               NaN   \n",
       " 2       NaN                               NaN   \n",
       " 3       NaN                               NaN   \n",
       " 4       NaN                               NaN   \n",
       " 5       NaN                               NaN   \n",
       " 6       NaN                               NaN   \n",
       " 7       NaN                               NaN   \n",
       " 8       NaN                               NaN   \n",
       " 9       NaN                               NaN   \n",
       " 10      NaN                               NaN   \n",
       " 11      NaN                               NaN   \n",
       " 12      NaN                               NaN   \n",
       " 13      NaN                               NaN   \n",
       " 14      NaN                               NaN   \n",
       " 15      NaN                               NaN   \n",
       " 16      NaN                               NaN   \n",
       " 17      NaN                               NaN   \n",
       " 18      NaN                               NaN   \n",
       " 19      NaN                               NaN   \n",
       " 20      NaN                               NaN   \n",
       " 21      NaN                               NaN   \n",
       " 22      NaN                               NaN   \n",
       " 23      NaN                               NaN   \n",
       " 24      NaN                               NaN   \n",
       " 25      NaN                               NaN   \n",
       " 26      NaN                               NaN   \n",
       " 27      NaN                               NaN   \n",
       " 28      NaN                               NaN   \n",
       " 29      NaN                               NaN   \n",
       " 30      NaN                               NaN   \n",
       " 31      NaN                               NaN   \n",
       " 32      NaN                               NaN   \n",
       " 33      NaN                               NaN   \n",
       " 34      NaN                               NaN   \n",
       " 35      NaN                               NaN   \n",
       " 36      NaN  Cambridge Health Alliance Family   \n",
       " 37      NaN                  Planning Program   \n",
       " 38      NaN                               NaN   \n",
       " 39      NaN                               NaN   \n",
       " 40      NaN                               NaN   \n",
       " 41      NaN                               NaN   \n",
       " 42      NaN                               NaN   \n",
       " \n",
       "                                        2                        3  \\\n",
       " 0                           Service Site           Street Address   \n",
       " 1       Mattapan Community Health Center       1575 Blue Hill AVE   \n",
       " 2         Charles River Community Health       495 Western Avenue   \n",
       " 3                 Neponset Health Center         398 Neponset AVE   \n",
       " 4       MGH Revere Adolescent and School                      NaN   \n",
       " 5                    Based Health Center        101 School Street   \n",
       " 6         Charles River Community Health              564 Main St   \n",
       " 7     MGH Chelsea Pediatric & Adolescent                      NaN   \n",
       " 8                               Medicine          151 Everett Ave   \n",
       " 9     North End Waterfront Health Center                      NaN   \n",
       " 10           at  Charlestown High School       240 Medford Street   \n",
       " 11             Codman Square-Tech Boston                      NaN   \n",
       " 12                               Academy         9 Peacevale Road   \n",
       " 13        Greater Roslindale Medical and                      NaN   \n",
       " 14                         Dental Center   4199 Washington Street   \n",
       " 15       Dimock Community Health Center-                      NaN   \n",
       " 16       Pediatric/Adolescent Department         55 Dimock Street   \n",
       " 17           Boston Community Leadership                      NaN   \n",
       " 18          Academy HS, New Mission High                      NaN   \n",
       " 19                           School-SBHC  655 Metropolitan Avenue   \n",
       " 20                                   NaN                      NaN   \n",
       " 21            Brighton High School -SBHC         25 Warren Street   \n",
       " 22                                   NaN                      NaN   \n",
       " 23                  Boston Latin Academy          205 Townsend St   \n",
       " 24                                   NaN                      NaN   \n",
       " 25  Jeremiah E. Burke High School - SBHC     60 Washington Street   \n",
       " 26                                   NaN                      NaN   \n",
       " 27       Madison Park High School - SBHC       75 Melcolm X Blvd.   \n",
       " 28       Snowden International School at                      NaN   \n",
       " 29                           Copley-SBHC       150 Newbury Street   \n",
       " 30   South Cove Community Health Center-                      NaN   \n",
       " 31                         Malden Clinic       277 Commercial St.   \n",
       " 32                                   NaN                      NaN   \n",
       " 33     Whittier Street at Quincy Commons     278 Blue Hill Avenue   \n",
       " 34   South Cove Community Health Center-                      NaN   \n",
       " 35                         Malden Clinic       277 Commercial St.   \n",
       " 36                                   NaN                      NaN   \n",
       " 37                                   NaN         230 Highland AVE   \n",
       " 38            CHA Women's Health Center,                      NaN   \n",
       " 39                   Somerville hospital         230 Highland AVE   \n",
       " 40                CHA Teen Health Center             459 Broadway   \n",
       " 41                                   NaN                      NaN   \n",
       " 42                   CHA Teen Connection          81 Highland AVE   \n",
       " \n",
       "               4      5    6      7               8  \\\n",
       " 0          City  State  Zip    NaN           Phone   \n",
       " 1      Mattapan     MA  NaN  02126  (617) 898-9055   \n",
       " 2       Allston     MA  NaN  02135  (617) 783-0500   \n",
       " 3    Dorchester     MA  NaN  02122  (617) 282-3200   \n",
       " 4           NaN    NaN  NaN    NaN             NaN   \n",
       " 5        Revere     MA  NaN  02151  (781) 485-6429   \n",
       " 6       Waltham     MA  NaN  02451  (781) 693-3800   \n",
       " 7           NaN    NaN  NaN    NaN             NaN   \n",
       " 8       Chelsea     MA  NaN  02150  (617) 884-8300   \n",
       " 9           NaN    NaN  NaN    NaN             NaN   \n",
       " 10  Charlestown     MA  NaN  02129  (617) 241-0236   \n",
       " 11          NaN    NaN  NaN    NaN             NaN   \n",
       " 12   Dorchester     MA  NaN  02124  (617) 635-1615   \n",
       " 13          NaN    NaN  NaN    NaN             NaN   \n",
       " 14   Roslindale     MA  NaN  02131  (617) 323-4440   \n",
       " 15          NaN    NaN  NaN    NaN             NaN   \n",
       " 16      Roxbury     MA  NaN  02119  (617) 442-8800   \n",
       " 17          NaN    NaN  NaN    NaN             NaN   \n",
       " 18          NaN    NaN  NaN    NaN             NaN   \n",
       " 19    Hyde Park     MA  NaN  02136  (617) 534-5198   \n",
       " 20          NaN    NaN  NaN    NaN             NaN   \n",
       " 21     Brighton     MA  NaN  02135  (617) 534-5198   \n",
       " 22          NaN    NaN  NaN    NaN             NaN   \n",
       " 23   Dorchester     MA  NaN  02121  (617) 635-9957   \n",
       " 24          NaN    NaN  NaN    NaN             NaN   \n",
       " 25   Dorchester     MA  NaN  02120  (617) 534-5198   \n",
       " 26          NaN    NaN  NaN    NaN             NaN   \n",
       " 27      Roxbury     MA  NaN  02120  (617) 534-5198   \n",
       " 28          NaN    NaN  NaN    NaN             NaN   \n",
       " 29       Boston     MA  NaN  02116  (617) 534-5198   \n",
       " 30          NaN    NaN  NaN    NaN             NaN   \n",
       " 31       Malden     MA  NaN  02148  (781) 912-2500   \n",
       " 32          NaN    NaN  NaN    NaN             NaN   \n",
       " 33      Roxbury     MA  NaN  02119  (617) 858-2550   \n",
       " 34          NaN    NaN  NaN    NaN             NaN   \n",
       " 35       Malden     MA  NaN  02148  (781) 912-2500   \n",
       " 36          NaN    NaN  NaN    NaN             NaN   \n",
       " 37   Somerville     MA  NaN  02143  (617) 591-6735   \n",
       " 38          NaN    NaN  NaN    NaN             NaN   \n",
       " 39   Somerville     MA  NaN  02143  (617) 591-4800   \n",
       " 40    Cambridge     MA  NaN  02138  (617) 665-1548   \n",
       " 41          NaN    NaN  NaN    NaN             NaN   \n",
       " 42   Somerville     MA  NaN  02143  (617) 575-5690   \n",
       " \n",
       "                                                     9  \n",
       " 0                                                 URL  \n",
       " 1                         http://www.mattapanchc.org/  \n",
       " 2                       http://www.charlesriverch.org  \n",
       " 3         http://www.hhsi.us/neponsethealthcenter.php  \n",
       " 4                                                 NaN  \n",
       " 5                                                 NaN  \n",
       " 6                       http://www.charlesriverch.org  \n",
       " 7                                                 NaN  \n",
       " 8                 http://www.massgeneral.org/chelsea/  \n",
       " 9                                                 NaN  \n",
       " 10               https://northendwaterfronthealth.org  \n",
       " 11                                                NaN  \n",
       " 12                                                NaN  \n",
       " 13                                                NaN  \n",
       " 14                          http://www.roslindale.org  \n",
       " 15                                                NaN  \n",
       " 16                                                NaN  \n",
       " 17                                                NaN  \n",
       " 18  http://www.bphc.org/programs/cafh/cah/CAHServi...  \n",
       " 19                             health/Pages/Home.aspx  \n",
       " 20  http://www.bphc.org/programs/cafh/cah/CAHServi...  \n",
       " 21                             health/Pages/Home.aspx  \n",
       " 22  http://www.bphc.org/programs/cafh/cah/CAHServi...  \n",
       " 23                             health/Pages/Home.aspx  \n",
       " 24  http://www.bphc.org/programs/cafh/cah/CAHServi...  \n",
       " 25                             health/Pages/Home.aspx  \n",
       " 26  http://www.bphc.org/programs/cafh/cah/CAHServi...  \n",
       " 27                             health/Pages/Home.aspx  \n",
       " 28  http://www.bphc.org/programs/cafh/cah/CAHServi...  \n",
       " 29                             health/Pages/Home.aspx  \n",
       " 30                                                NaN  \n",
       " 31                                                NaN  \n",
       " 32  http://www.wshc.org/services/adult-healthy-wei...  \n",
       " 33                                            clinic/  \n",
       " 34                                                NaN  \n",
       " 35      http://www.scchc.org/locations/locations.aspx  \n",
       " 36                                                NaN  \n",
       " 37                          http://www.challiance.org  \n",
       " 38  http://www.cha.harvard.edu/locations/som_women...  \n",
       " 39           "
      ]
     },
     "execution_count": 177,
     "metadata": {},
     "output_type": "execute_result"
    },
    {
     "data": {
      "text/html": [
       "<b>limit_output extension: Maximum message size of 10000 exceeded with 1772134 characters</b>"
      ]
     },
     "metadata": {},
     "output_type": "display_data"
    }
   ],
   "source": [
    "df[0]"
   ]
  }
 ],
 "metadata": {
  "kernelspec": {
   "display_name": "Python 3",
   "language": "python",
   "name": "python3"
  },
  "language_info": {
   "codemirror_mode": {
    "name": "ipython",
    "version": 3
   },
   "file_extension": ".py",
   "mimetype": "text/x-python",
   "name": "python",
   "nbconvert_exporter": "python",
   "pygments_lexer": "ipython3",
   "version": "3.6.5"
  },
  "latex_envs": {
   "LaTeX_envs_menu_present": true,
   "autoclose": false,
   "autocomplete": true,
   "bibliofile": "biblio.bib",
   "cite_by": "apalike",
   "current_citInitial": 1,
   "eqLabelWithNumbers": true,
   "eqNumInitial": 1,
   "hotkeys": {
    "equation": "Ctrl-E",
    "itemize": "Ctrl-I"
   },
   "labels_anchors": false,
   "latex_user_defs": false,
   "report_style_numbering": false,
   "user_envs_cfg": false
  },
  "toc": {
   "base_numbering": 1,
   "nav_menu": {},
   "number_sections": false,
   "sideBar": true,
   "skip_h1_title": false,
   "title_cell": "Table of Contents",
   "title_sidebar": "Contents",
   "toc_cell": false,
   "toc_position": {
    "height": "calc(100% - 180px)",
    "left": "10px",
    "top": "150px",
    "width": "165px"
   },
   "toc_section_display": true,
   "toc_window_display": true
  },
  "varInspector": {
   "cols": {
    "lenName": 16,
    "lenType": 16,
    "lenVar": 40
   },
   "kernels_config": {
    "python": {
     "delete_cmd_postfix": "",
     "delete_cmd_prefix": "del ",
     "library": "var_list.py",
     "varRefreshCmd": "print(var_dic_list())"
    },
    "r": {
     "delete_cmd_postfix": ") ",
     "delete_cmd_prefix": "rm(",
     "library": "var_list.r",
     "varRefreshCmd": "cat(var_dic_list()) "
    }
   },
   "types_to_exclude": [
    "module",
    "function",
    "builtin_function_or_method",
    "instance",
    "_Feature"
   ],
   "window_display": false
  }
 },
 "nbformat": 4,
 "nbformat_minor": 2
}
